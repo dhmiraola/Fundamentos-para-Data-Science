{
 "cells": [
  {
   "cell_type": "markdown",
   "metadata": {},
   "source": [
    "![cropped-Recurso-2-3.png](attachment:cropped-Recurso-2-3.png)\n",
    "\n",
    "# Control II:\n",
    "### Asignatura: Fundamentos para Data Science\n",
    "### Profesor: Diego Miranda Olavarría\n",
    "\n",
    "#### A usted como Data Scientist le han encomendado la tarea de realizar un análisis exploratorio de una base de datos, \n",
    "#### se pide:\n",
    "\n",
    "* Abrir la base de datos con la librería Pandas (5 puntos)\n",
    "* Muestre las 10 últimas filas del dataframe (5 puntos)\n",
    "* Muestre la dimensión del dataframe (5 puntos)\n",
    "* Renombre la columna \"Beneficiarios/as Estimados a dic 2020\\n 3,10 Benef/arr\" por \"beneficiarios\" (10 puntos)\n",
    "* Impute valores NaN de la columna anteriormente renombrada, mediante el promedio.  (10 puntos)\n",
    "* Realice un subconjunto de datos con las columnas: \"Comuna\", \"beneficiarios\", \"Tipo\" y \"Fondos\" (10 puntos)\n",
    "* Determine todas las columnas con menos de 2500 beneficiarios  (15 puntos)\n",
    "\n",
    "* Se debe guardar un archivo .ipynb con su nombre y apellido y enviarlo a dhmiraola@gmail.com\n",
    "\n",
    "* É X I T O"
   ]
  },
  {
   "cell_type": "code",
   "execution_count": null,
   "metadata": {},
   "outputs": [],
   "source": []
  },
  {
   "cell_type": "code",
   "execution_count": null,
   "metadata": {},
   "outputs": [],
   "source": []
  },
  {
   "cell_type": "code",
   "execution_count": null,
   "metadata": {},
   "outputs": [],
   "source": []
  },
  {
   "cell_type": "code",
   "execution_count": null,
   "metadata": {},
   "outputs": [],
   "source": []
  },
  {
   "cell_type": "code",
   "execution_count": null,
   "metadata": {},
   "outputs": [],
   "source": []
  },
  {
   "cell_type": "code",
   "execution_count": null,
   "metadata": {},
   "outputs": [],
   "source": []
  }
 ],
 "metadata": {
  "kernelspec": {
   "display_name": "Python 3",
   "language": "python",
   "name": "python3"
  },
  "language_info": {
   "codemirror_mode": {
    "name": "ipython",
    "version": 3
   },
   "file_extension": ".py",
   "mimetype": "text/x-python",
   "name": "python",
   "nbconvert_exporter": "python",
   "pygments_lexer": "ipython3",
   "version": "3.8.5"
  }
 },
 "nbformat": 4,
 "nbformat_minor": 4
}
