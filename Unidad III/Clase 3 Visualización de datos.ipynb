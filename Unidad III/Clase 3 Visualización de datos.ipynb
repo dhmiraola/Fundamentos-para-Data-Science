{
 "cells": [
  {
   "attachments": {
    "cropped-Recurso-2-3.png": {
     "image/png": "[encoded data removed]"
    }
   },
   "cell_type": "markdown",
   "metadata": {},
   "source": [
    "![cropped-Recurso-2-3.png](attachment:cropped-Recurso-2-3.png)\n",
    "\n",
    "## Unidad 3: Visualización de datos\n",
    "### Clase 3\n",
    "### Asignatura: Fundamentos para Data Science\n",
    "### Profesor: Diego Miranda Olavarría"
   ]
  },
  {
   "cell_type": "code",
   "execution_count": 1,
   "metadata": {},
   "outputs": [
    {
     "name": "stderr",
     "output_type": "stream",
     "text": [
      "C:\\Users\\Diego Miranda\\anaconda3\\lib\\site-packages\\pandas\\core\\computation\\expressions.py:20: UserWarning: Pandas requires version '2.7.3' or newer of 'numexpr' (version '2.7.1' currently installed).\n",
      "  from pandas.core.computation.check import NUMEXPR_INSTALLED\n"
     ]
    }
   ],
   "source": [
    "# Importamos la librería Pandas y la librería Matplotlib\n",
    "\n",
    "import pandas as pd # Librería para análisis exploratorio\n",
    "import matplotlib.pyplot as plt # Librería para la visualización de datos\n",
    "import seaborn as sns # Librería para la visualización de datos"
   ]
  },
  {
   "cell_type": "code",
   "execution_count": 2,
   "metadata": {},
   "outputs": [
    {
     "data": {
      "text/html": [
       "<div>\n",
       "<style scoped>\n",
       "    .dataframe tbody tr th:only-of-type {\n",
       "        vertical-align: middle;\n",
       "    }\n",
       "\n",
       "    .dataframe tbody tr th {\n",
       "        vertical-align: top;\n",
       "    }\n",
       "\n",
       "    .dataframe thead th {\n",
       "        text-align: right;\n",
       "    }\n",
       "</style>\n",
       "<table border=\"1\" class=\"dataframe\">\n",
       "  <thead>\n",
       "    <tr style=\"text-align: right;\">\n",
       "      <th></th>\n",
       "      <th>altura</th>\n",
       "      <th>peso</th>\n",
       "      <th>ingreso</th>\n",
       "      <th>horas_trabajadas</th>\n",
       "      <th>ausencias</th>\n",
       "    </tr>\n",
       "  </thead>\n",
       "  <tbody>\n",
       "    <tr>\n",
       "      <th>0</th>\n",
       "      <td>134.433878</td>\n",
       "      <td>70.617864</td>\n",
       "      <td>9973.577534</td>\n",
       "      <td>40.905476</td>\n",
       "      <td>4</td>\n",
       "    </tr>\n",
       "    <tr>\n",
       "      <th>1</th>\n",
       "      <td>167.158746</td>\n",
       "      <td>109.268295</td>\n",
       "      <td>8961.047249</td>\n",
       "      <td>41.576483</td>\n",
       "      <td>4</td>\n",
       "    </tr>\n",
       "    <tr>\n",
       "      <th>2</th>\n",
       "      <td>141.480812</td>\n",
       "      <td>81.034644</td>\n",
       "      <td>7437.977263</td>\n",
       "      <td>41.369239</td>\n",
       "      <td>5</td>\n",
       "    </tr>\n",
       "    <tr>\n",
       "      <th>3</th>\n",
       "      <td>123.227119</td>\n",
       "      <td>57.884172</td>\n",
       "      <td>12064.915290</td>\n",
       "      <td>41.537211</td>\n",
       "      <td>3</td>\n",
       "    </tr>\n",
       "    <tr>\n",
       "      <th>4</th>\n",
       "      <td>143.554951</td>\n",
       "      <td>93.581093</td>\n",
       "      <td>9296.396167</td>\n",
       "      <td>40.441203</td>\n",
       "      <td>4</td>\n",
       "    </tr>\n",
       "    <tr>\n",
       "      <th>5</th>\n",
       "      <td>191.210043</td>\n",
       "      <td>130.460916</td>\n",
       "      <td>11666.087260</td>\n",
       "      <td>41.142484</td>\n",
       "      <td>3</td>\n",
       "    </tr>\n",
       "    <tr>\n",
       "      <th>6</th>\n",
       "      <td>179.798862</td>\n",
       "      <td>118.160592</td>\n",
       "      <td>9517.651813</td>\n",
       "      <td>40.653842</td>\n",
       "      <td>4</td>\n",
       "    </tr>\n",
       "    <tr>\n",
       "      <th>7</th>\n",
       "      <td>146.724090</td>\n",
       "      <td>74.124337</td>\n",
       "      <td>7529.944441</td>\n",
       "      <td>41.104741</td>\n",
       "      <td>5</td>\n",
       "    </tr>\n",
       "    <tr>\n",
       "      <th>8</th>\n",
       "      <td>178.229851</td>\n",
       "      <td>116.055520</td>\n",
       "      <td>11934.461470</td>\n",
       "      <td>41.163304</td>\n",
       "      <td>3</td>\n",
       "    </tr>\n",
       "    <tr>\n",
       "      <th>9</th>\n",
       "      <td>160.485605</td>\n",
       "      <td>105.863988</td>\n",
       "      <td>10002.623260</td>\n",
       "      <td>41.992823</td>\n",
       "      <td>4</td>\n",
       "    </tr>\n",
       "  </tbody>\n",
       "</table>\n",
       "</div>"
      ],
      "text/plain": [
       "       altura        peso       ingreso  horas_trabajadas  ausencias\n",
       "0  134.433878   70.617864   9973.577534         40.905476          4\n",
       "1  167.158746  109.268295   8961.047249         41.576483          4\n",
       "2  141.480812   81.034644   7437.977263         41.369239          5\n",
       "3  123.227119   57.884172  12064.915290         41.537211          3\n",
       "4  143.554951   93.581093   9296.396167         40.441203          4\n",
       "5  191.210043  130.460916  11666.087260         41.142484          3\n",
       "6  179.798862  118.160592   9517.651813         40.653842          4\n",
       "7  146.724090   74.124337   7529.944441         41.104741          5\n",
       "8  178.229851  116.055520  11934.461470         41.163304          3\n",
       "9  160.485605  105.863988  10002.623260         41.992823          4"
      ]
     },
     "execution_count": 2,
     "metadata": {},
     "output_type": "execute_result"
    }
   ],
   "source": [
    "data = pd.read_csv(\"https://raw.githubusercontent.com/CodigoMaquina/code/main/datos/personas.csv\")\n",
    "data.head(10)"
   ]
  },
  {
   "cell_type": "code",
   "execution_count": 3,
   "metadata": {},
   "outputs": [
    {
     "data": {
      "text/html": [
       "<div>\n",
       "<style scoped>\n",
       "    .dataframe tbody tr th:only-of-type {\n",
       "        vertical-align: middle;\n",
       "    }\n",
       "\n",
       "    .dataframe tbody tr th {\n",
       "        vertical-align: top;\n",
       "    }\n",
       "\n",
       "    .dataframe thead th {\n",
       "        text-align: right;\n",
       "    }\n",
       "</style>\n",
       "<table border=\"1\" class=\"dataframe\">\n",
       "  <thead>\n",
       "    <tr style=\"text-align: right;\">\n",
       "      <th></th>\n",
       "      <th>altura</th>\n",
       "      <th>peso</th>\n",
       "      <th>ingreso</th>\n",
       "      <th>horas_trabajadas</th>\n",
       "      <th>ausencias</th>\n",
       "    </tr>\n",
       "  </thead>\n",
       "  <tbody>\n",
       "    <tr>\n",
       "      <th>count</th>\n",
       "      <td>1000.000000</td>\n",
       "      <td>1000.000000</td>\n",
       "      <td>1000.000000</td>\n",
       "      <td>1000.000000</td>\n",
       "      <td>1000.000000</td>\n",
       "    </tr>\n",
       "    <tr>\n",
       "      <th>mean</th>\n",
       "      <td>149.951455</td>\n",
       "      <td>85.474510</td>\n",
       "      <td>10077.306402</td>\n",
       "      <td>41.275829</td>\n",
       "      <td>3.587000</td>\n",
       "    </tr>\n",
       "    <tr>\n",
       "      <th>std</th>\n",
       "      <td>19.748345</td>\n",
       "      <td>21.091609</td>\n",
       "      <td>2490.167110</td>\n",
       "      <td>0.525277</td>\n",
       "      <td>1.264923</td>\n",
       "    </tr>\n",
       "    <tr>\n",
       "      <th>min</th>\n",
       "      <td>92.494081</td>\n",
       "      <td>28.431261</td>\n",
       "      <td>1783.853217</td>\n",
       "      <td>39.930111</td>\n",
       "      <td>-1.000000</td>\n",
       "    </tr>\n",
       "    <tr>\n",
       "      <th>25%</th>\n",
       "      <td>137.055102</td>\n",
       "      <td>72.812153</td>\n",
       "      <td>8407.200717</td>\n",
       "      <td>40.905475</td>\n",
       "      <td>3.000000</td>\n",
       "    </tr>\n",
       "    <tr>\n",
       "      <th>50%</th>\n",
       "      <td>150.338618</td>\n",
       "      <td>84.891180</td>\n",
       "      <td>10072.833245</td>\n",
       "      <td>41.270119</td>\n",
       "      <td>4.000000</td>\n",
       "    </tr>\n",
       "    <tr>\n",
       "      <th>75%</th>\n",
       "      <td>162.905948</td>\n",
       "      <td>99.956094</td>\n",
       "      <td>11689.680823</td>\n",
       "      <td>41.638858</td>\n",
       "      <td>4.000000</td>\n",
       "    </tr>\n",
       "    <tr>\n",
       "      <th>max</th>\n",
       "      <td>210.607163</td>\n",
       "      <td>154.046500</td>\n",
       "      <td>20032.236920</td>\n",
       "      <td>43.031858</td>\n",
       "      <td>8.000000</td>\n",
       "    </tr>\n",
       "  </tbody>\n",
       "</table>\n",
       "</div>"
      ],
      "text/plain": [
       "            altura         peso       ingreso  horas_trabajadas    ausencias\n",
       "count  1000.000000  1000.000000   1000.000000       1000.000000  1000.000000\n",
       "mean    149.951455    85.474510  10077.306402         41.275829     3.587000\n",
       "std      19.748345    21.091609   2490.167110          0.525277     1.264923\n",
       "min      92.494081    28.431261   1783.853217         39.930111    -1.000000\n",
       "25%     137.055102    72.812153   8407.200717         40.905475     3.000000\n",
       "50%     150.338618    84.891180  10072.833245         41.270119     4.000000\n",
       "75%     162.905948    99.956094  11689.680823         41.638858     4.000000\n",
       "max     210.607163   154.046500  20032.236920         43.031858     8.000000"
      ]
     },
     "execution_count": 3,
     "metadata": {},
     "output_type": "execute_result"
    }
   ],
   "source": [
    "data.describe()"
   ]
  },
  {
   "cell_type": "code",
   "execution_count": 4,
   "metadata": {},
   "outputs": [
    {
     "data": {
      "text/plain": [
       "altura              float64\n",
       "peso                float64\n",
       "ingreso             float64\n",
       "horas_trabajadas    float64\n",
       "ausencias             int64\n",
       "dtype: object"
      ]
     },
     "execution_count": 4,
     "metadata": {},
     "output_type": "execute_result"
    }
   ],
   "source": [
    "data.dtypes"
   ]
  },
  {
   "cell_type": "code",
   "execution_count": 5,
   "metadata": {},
   "outputs": [
    {
     "data": {
      "text/plain": [
       "(1000, 5)"
      ]
     },
     "execution_count": 5,
     "metadata": {},
     "output_type": "execute_result"
    }
   ],
   "source": [
    "data.shape"
   ]
  },
  {
   "cell_type": "markdown",
   "metadata": {},
   "source": [
    "## Correlaciones y Mapa de calor\n",
    "* Un mapa de calor es una representación gráfica de los valores contenidos en una matriz mediante el uso de colores. En estos, los índices de la matriz representan las variables de dos características que se desean comparar, es decir, detectar la correlación entre estas dos variables."
   ]
  },
  {
   "cell_type": "code",
   "execution_count": 6,
   "metadata": {},
   "outputs": [
    {
     "name": "stdout",
     "output_type": "stream",
     "text": [
      "                    altura      peso   ingreso  horas_trabajadas  ausencias\n",
      "altura            1.000000  0.930608 -0.025283          0.008547   0.025587\n",
      "peso              0.930608  1.000000 -0.029852         -0.002483   0.027450\n",
      "ingreso          -0.025283 -0.029852  1.000000          0.625514  -0.973104\n",
      "horas_trabajadas  0.008547 -0.002483  0.625514          1.000000  -0.603870\n",
      "ausencias         0.025587  0.027450 -0.973104         -0.603870   1.000000\n"
     ]
    }
   ],
   "source": [
    "correl = data.corr() # Muestra la Correlación\n",
    "print(correl)"
   ]
  },
  {
   "cell_type": "code",
   "execution_count": 7,
   "metadata": {},
   "outputs": [
    {
     "data": {
      "text/plain": [
       "<AxesSubplot:>"
      ]
     },
     "execution_count": 7,
     "metadata": {},
     "output_type": "execute_result"
    },
    {
     "data": {
      "image/png": "[encoded data removed]",
      "text/plain": [
       "<Figure size 432x288 with 2 Axes>"
      ]
     },
     "metadata": {
      "needs_background": "light"
     },
     "output_type": "display_data"
    }
   ],
   "source": [
    "sns.heatmap(correl, cmap=\"bwr\", vmin=-1, vmax=1) "
   ]
  },
  {
   "cell_type": "code",
   "execution_count": 8,
   "metadata": {},
   "outputs": [
    {
     "data": {
      "image/png": "[encoded data removed]",
      "text/plain": [
       "<Figure size 288x288 with 2 Axes>"
      ]
     },
     "metadata": {
      "needs_background": "light"
     },
     "output_type": "display_data"
    }
   ],
   "source": [
    "plt.matshow(correl, cmap=\"bwr\", vmin=-1, vmax=1) \n",
    "plt.xticks(range(5), correl.columns, rotation=90) \n",
    "plt.yticks(range(5), correl.columns)\n",
    "\n",
    "for i in range(len(correl.columns)): \n",
    "    for j in range(len(correl.columns)):\n",
    "        plt.text(i, j, round(correl.iloc[i, j], 2),\n",
    "                 ha=\"center\", va=\"center\")\n",
    "\n",
    "\n",
    "plt.colorbar() \n",
    "plt.show()"
   ]
  },
  {
   "cell_type": "markdown",
   "metadata": {},
   "source": [
    "## Gráfico de torta o pie\n",
    "\n",
    "* Les enseñaré una técnica usando CountOff, de esta manera podrán elegir valores personalizados de las filas del dataframe"
   ]
  },
  {
   "cell_type": "code",
   "execution_count": 9,
   "metadata": {},
   "outputs": [
    {
     "data": {
      "text/html": [
       "<div>\n",
       "<style scoped>\n",
       "    .dataframe tbody tr th:only-of-type {\n",
       "        vertical-align: middle;\n",
       "    }\n",
       "\n",
       "    .dataframe tbody tr th {\n",
       "        vertical-align: top;\n",
       "    }\n",
       "\n",
       "    .dataframe thead th {\n",
       "        text-align: right;\n",
       "    }\n",
       "</style>\n",
       "<table border=\"1\" class=\"dataframe\">\n",
       "  <thead>\n",
       "    <tr style=\"text-align: right;\">\n",
       "      <th></th>\n",
       "      <th>Unnamed: 0</th>\n",
       "      <th>City</th>\n",
       "      <th>Discipline</th>\n",
       "      <th>Event</th>\n",
       "      <th>Event gender</th>\n",
       "      <th>Medal</th>\n",
       "      <th>NOC</th>\n",
       "      <th>Sport</th>\n",
       "      <th>Year</th>\n",
       "    </tr>\n",
       "  </thead>\n",
       "  <tbody>\n",
       "    <tr>\n",
       "      <th>0</th>\n",
       "      <td>0</td>\n",
       "      <td>Chamonix</td>\n",
       "      <td>Figure skating</td>\n",
       "      <td>individual</td>\n",
       "      <td>M</td>\n",
       "      <td>Silver</td>\n",
       "      <td>AUT</td>\n",
       "      <td>Skating</td>\n",
       "      <td>1924</td>\n",
       "    </tr>\n",
       "    <tr>\n",
       "      <th>1</th>\n",
       "      <td>1</td>\n",
       "      <td>Chamonix</td>\n",
       "      <td>Figure skating</td>\n",
       "      <td>individual</td>\n",
       "      <td>W</td>\n",
       "      <td>Gold</td>\n",
       "      <td>AUT</td>\n",
       "      <td>Skating</td>\n",
       "      <td>1924</td>\n",
       "    </tr>\n",
       "    <tr>\n",
       "      <th>2</th>\n",
       "      <td>2</td>\n",
       "      <td>Chamonix</td>\n",
       "      <td>Figure skating</td>\n",
       "      <td>pairs</td>\n",
       "      <td>X</td>\n",
       "      <td>Gold</td>\n",
       "      <td>AUT</td>\n",
       "      <td>Skating</td>\n",
       "      <td>1924</td>\n",
       "    </tr>\n",
       "    <tr>\n",
       "      <th>3</th>\n",
       "      <td>3</td>\n",
       "      <td>Chamonix</td>\n",
       "      <td>Bobsleigh</td>\n",
       "      <td>four-man</td>\n",
       "      <td>M</td>\n",
       "      <td>Bronze</td>\n",
       "      <td>BEL</td>\n",
       "      <td>Bobsleigh</td>\n",
       "      <td>1924</td>\n",
       "    </tr>\n",
       "    <tr>\n",
       "      <th>4</th>\n",
       "      <td>4</td>\n",
       "      <td>Chamonix</td>\n",
       "      <td>Ice Hockey</td>\n",
       "      <td>ice hockey</td>\n",
       "      <td>M</td>\n",
       "      <td>Gold</td>\n",
       "      <td>CAN</td>\n",
       "      <td>Ice Hockey</td>\n",
       "      <td>1924</td>\n",
       "    </tr>\n",
       "    <tr>\n",
       "      <th>5</th>\n",
       "      <td>5</td>\n",
       "      <td>Chamonix</td>\n",
       "      <td>Biathlon</td>\n",
       "      <td>military patrol</td>\n",
       "      <td>M</td>\n",
       "      <td>Silver</td>\n",
       "      <td>FIN</td>\n",
       "      <td>Biathlon</td>\n",
       "      <td>1924</td>\n",
       "    </tr>\n",
       "    <tr>\n",
       "      <th>6</th>\n",
       "      <td>6</td>\n",
       "      <td>Chamonix</td>\n",
       "      <td>Figure skating</td>\n",
       "      <td>pairs</td>\n",
       "      <td>X</td>\n",
       "      <td>Silver</td>\n",
       "      <td>FIN</td>\n",
       "      <td>Skating</td>\n",
       "      <td>1924</td>\n",
       "    </tr>\n",
       "    <tr>\n",
       "      <th>7</th>\n",
       "      <td>7</td>\n",
       "      <td>Chamonix</td>\n",
       "      <td>Speed skating</td>\n",
       "      <td>10000m</td>\n",
       "      <td>M</td>\n",
       "      <td>Gold</td>\n",
       "      <td>FIN</td>\n",
       "      <td>Skating</td>\n",
       "      <td>1924</td>\n",
       "    </tr>\n",
       "    <tr>\n",
       "      <th>8</th>\n",
       "      <td>8</td>\n",
       "      <td>Chamonix</td>\n",
       "      <td>Speed skating</td>\n",
       "      <td>10000m</td>\n",
       "      <td>M</td>\n",
       "      <td>Silver</td>\n",
       "      <td>FIN</td>\n",
       "      <td>Skating</td>\n",
       "      <td>1924</td>\n",
       "    </tr>\n",
       "    <tr>\n",
       "      <th>9</th>\n",
       "      <td>9</td>\n",
       "      <td>Chamonix</td>\n",
       "      <td>Speed skating</td>\n",
       "      <td>1500m</td>\n",
       "      <td>M</td>\n",
       "      <td>Gold</td>\n",
       "      <td>FIN</td>\n",
       "      <td>Skating</td>\n",
       "      <td>1924</td>\n",
       "    </tr>\n",
       "  </tbody>\n",
       "</table>\n",
       "</div>"
      ],
      "text/plain": [
       "   Unnamed: 0      City      Discipline            Event Event gender   Medal  \\\n",
       "0           0  Chamonix  Figure skating       individual            M  Silver   \n",
       "1           1  Chamonix  Figure skating       individual            W    Gold   \n",
       "2           2  Chamonix  Figure skating            pairs            X    Gold   \n",
       "3           3  Chamonix       Bobsleigh         four-man            M  Bronze   \n",
       "4           4  Chamonix      Ice Hockey       ice hockey            M    Gold   \n",
       "5           5  Chamonix        Biathlon  military patrol            M  Silver   \n",
       "6           6  Chamonix  Figure skating            pairs            X  Silver   \n",
       "7           7  Chamonix   Speed skating           10000m            M    Gold   \n",
       "8           8  Chamonix   Speed skating           10000m            M  Silver   \n",
       "9           9  Chamonix   Speed skating            1500m            M    Gold   \n",
       "\n",
       "   NOC       Sport  Year  \n",
       "0  AUT     Skating  1924  \n",
       "1  AUT     Skating  1924  \n",
       "2  AUT     Skating  1924  \n",
       "3  BEL   Bobsleigh  1924  \n",
       "4  CAN  Ice Hockey  1924  \n",
       "5  FIN    Biathlon  1924  \n",
       "6  FIN     Skating  1924  \n",
       "7  FIN     Skating  1924  \n",
       "8  FIN     Skating  1924  \n",
       "9  FIN     Skating  1924  "
      ]
     },
     "execution_count": 9,
     "metadata": {},
     "output_type": "execute_result"
    }
   ],
   "source": [
    "df = pd.read_csv(\"medals.csv\")\n",
    "df.head(10)"
   ]
  },
  {
   "cell_type": "code",
   "execution_count": 10,
   "metadata": {},
   "outputs": [],
   "source": [
    "from operator import countOf"
   ]
  },
  {
   "cell_type": "code",
   "execution_count": 11,
   "metadata": {},
   "outputs": [
    {
     "data": {
      "text/plain": [
       "Unnamed: 0       int64\n",
       "City            object\n",
       "Discipline      object\n",
       "Event           object\n",
       "Event gender    object\n",
       "Medal           object\n",
       "NOC             object\n",
       "Sport           object\n",
       "Year             int64\n",
       "dtype: object"
      ]
     },
     "execution_count": 11,
     "metadata": {},
     "output_type": "execute_result"
    }
   ],
   "source": [
    "df.dtypes"
   ]
  },
  {
   "cell_type": "code",
   "execution_count": 12,
   "metadata": {},
   "outputs": [
    {
     "data": {
      "image/png": "[encoded data removed]",
      "text/plain": [
       "<Figure size 432x288 with 1 Axes>"
      ]
     },
     "metadata": {},
     "output_type": "display_data"
    }
   ],
   "source": [
    "x1=countOf(df.Sport,\"Luge\")\n",
    "x2=countOf(df.Sport,\"Skiing\")\n",
    "x3=countOf(df.Sport,\"Curling\")\n",
    "x4=countOf(df.Sport,\"Skating\")\n",
    "plt.pie([x1,x2,x3,x4], labels=[\"Luge\",\"Skiing\",\"Curling\",\"Skating\"], autopct=\"%1.1f%%\")\n",
    "plt.show()"
   ]
  },
  {
   "cell_type": "code",
   "execution_count": 13,
   "metadata": {},
   "outputs": [
    {
     "data": {
      "image/png": "[encoded data removed]",
      "text/plain": [
       "<Figure size 432x288 with 1 Axes>"
      ]
     },
     "metadata": {},
     "output_type": "display_data"
    }
   ],
   "source": [
    "x1=countOf(df.Discipline,\"Snowboard\")\n",
    "x2=countOf(df.Discipline,\"Skeleton\")\n",
    "x3=countOf(df.Discipline,\"Luge\")\n",
    "x4=countOf(df.Discipline,\"Bobsleigh\")\n",
    "plt.pie([x1,x2,x3,x4], labels=[\"Snowboard\",\"Skeleton\",\"Luge\",\"Bobsleigh\"], autopct=\"%1.1f%%\")\n",
    "plt.show()"
   ]
  },
  {
   "cell_type": "markdown",
   "metadata": {},
   "source": [
    "## Gráfico de líneas"
   ]
  },
  {
   "cell_type": "code",
   "execution_count": 45,
   "metadata": {},
   "outputs": [
    {
     "data": {
      "text/plain": [
       "[<matplotlib.lines.Line2D at 0x1be297dcd60>]"
      ]
     },
     "execution_count": 45,
     "metadata": {},
     "output_type": "execute_result"
    },
    {
     "data": {
      "image/png": "[encoded data removed]",
      "text/plain": [
       "<Figure size 432x288 with 1 Axes>"
      ]
     },
     "metadata": {
      "needs_background": "light"
     },
     "output_type": "display_data"
    }
   ],
   "source": [
    "x = [\"ene\",\"feb\",\"mar\",\"abr\",\"may\",\"jun\",\"jul\"]\n",
    "y = [10,20,100,50,20,5,30]\n",
    "\n",
    "plt.plot(x,y)"
   ]
  },
  {
   "cell_type": "code",
   "execution_count": 46,
   "metadata": {},
   "outputs": [
    {
     "data": {
      "image/png": "[encoded data removed]",
      "text/plain": [
       "<Figure size 720x576 with 1 Axes>"
      ]
     },
     "metadata": {
      "needs_background": "light"
     },
     "output_type": "display_data"
    }
   ],
   "source": [
    "plt.figure(figsize=(10,8))\n",
    "plt.plot(x,y, color=\"red\", linewidth = 3)\n",
    "plt.title(\"Venta por mes\")\n",
    "plt.ylabel(\"Ventas\")\n",
    "plt.xlabel(\"Mes\")\n",
    "plt.show()"
   ]
  },
  {
   "cell_type": "code",
   "execution_count": null,
   "metadata": {},
   "outputs": [],
   "source": []
  }
 ],
 "metadata": {
  "kernelspec": {
   "display_name": "Python 3",
   "language": "python",
   "name": "python3"
  },
  "language_info": {
   "codemirror_mode": {
    "name": "ipython",
    "version": 3
   },
   "file_extension": ".py",
   "mimetype": "text/x-python",
   "name": "python",
   "nbconvert_exporter": "python",
   "pygments_lexer": "ipython3",
   "version": "3.8.5"
  }
 },
 "nbformat": 4,
 "nbformat_minor": 4
}
